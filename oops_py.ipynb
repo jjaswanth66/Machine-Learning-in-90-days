{
  "nbformat": 4,
  "nbformat_minor": 0,
  "metadata": {
    "colab": {
      "provenance": [],
      "toc_visible": true,
      "authorship_tag": "ABX9TyNjiYMHUpeRQIWLppNVyn0C",
      "include_colab_link": true
    },
    "kernelspec": {
      "name": "python3",
      "display_name": "Python 3"
    },
    "language_info": {
      "name": "python"
    }
  },
  "cells": [
    {
      "cell_type": "markdown",
      "metadata": {
        "id": "view-in-github",
        "colab_type": "text"
      },
      "source": [
        "<a href=\"https://colab.research.google.com/github/jjaswanth66/Machine-Learning-in-90-days/blob/master/oops_py.ipynb\" target=\"_parent\"><img src=\"https://colab.research.google.com/assets/colab-badge.svg\" alt=\"Open In Colab\"/></a>"
      ]
    },
    {
      "cell_type": "code",
      "execution_count": 45,
      "metadata": {
        "id": "Fg5y6ytSc0dQ"
      },
      "outputs": [],
      "source": [
        "def person(**details):\n",
        "  return details"
      ]
    },
    {
      "cell_type": "code",
      "source": [
        "for k,v in details.items():\n",
        "  if k == 'fname' or k == 'lname':\n",
        "      print('the',k,':',v)\n",
        "  elif k == 'age':\n",
        "      print('the',k,'  :',v)\n",
        "\n",
        "person(fname='jaswanth',lname='j',age= '27')\n",
        ""
      ],
      "metadata": {
        "colab": {
          "base_uri": "https://localhost:8080/",
          "height": 245
        },
        "id": "XuyylPsCdj7K",
        "outputId": "69fe3af3-1566-4bf8-cef3-d7a4f17a3007"
      },
      "execution_count": 46,
      "outputs": [
        {
          "output_type": "error",
          "ename": "NameError",
          "evalue": "ignored",
          "traceback": [
            "\u001b[0;31m---------------------------------------------------------------------------\u001b[0m",
            "\u001b[0;31mNameError\u001b[0m                                 Traceback (most recent call last)",
            "\u001b[0;32m<ipython-input-46-8085ea723a02>\u001b[0m in \u001b[0;36m<cell line: 1>\u001b[0;34m()\u001b[0m\n\u001b[0;32m----> 1\u001b[0;31m \u001b[0;32mfor\u001b[0m \u001b[0mk\u001b[0m\u001b[0;34m,\u001b[0m\u001b[0mv\u001b[0m \u001b[0;32min\u001b[0m \u001b[0mdetails\u001b[0m\u001b[0;34m.\u001b[0m\u001b[0mitems\u001b[0m\u001b[0;34m(\u001b[0m\u001b[0;34m)\u001b[0m\u001b[0;34m:\u001b[0m\u001b[0;34m\u001b[0m\u001b[0;34m\u001b[0m\u001b[0m\n\u001b[0m\u001b[1;32m      2\u001b[0m   \u001b[0;32mif\u001b[0m \u001b[0mk\u001b[0m \u001b[0;34m==\u001b[0m \u001b[0;34m'fname'\u001b[0m \u001b[0;32mor\u001b[0m \u001b[0mk\u001b[0m \u001b[0;34m==\u001b[0m \u001b[0;34m'lname'\u001b[0m\u001b[0;34m:\u001b[0m\u001b[0;34m\u001b[0m\u001b[0;34m\u001b[0m\u001b[0m\n\u001b[1;32m      3\u001b[0m       \u001b[0mprint\u001b[0m\u001b[0;34m(\u001b[0m\u001b[0;34m'the'\u001b[0m\u001b[0;34m,\u001b[0m\u001b[0mk\u001b[0m\u001b[0;34m,\u001b[0m\u001b[0;34m':'\u001b[0m\u001b[0;34m,\u001b[0m\u001b[0mv\u001b[0m\u001b[0;34m)\u001b[0m\u001b[0;34m\u001b[0m\u001b[0;34m\u001b[0m\u001b[0m\n\u001b[1;32m      4\u001b[0m   \u001b[0;32melif\u001b[0m \u001b[0mk\u001b[0m \u001b[0;34m==\u001b[0m \u001b[0;34m'age'\u001b[0m\u001b[0;34m:\u001b[0m\u001b[0;34m\u001b[0m\u001b[0;34m\u001b[0m\u001b[0m\n\u001b[1;32m      5\u001b[0m       \u001b[0mprint\u001b[0m\u001b[0;34m(\u001b[0m\u001b[0;34m'the'\u001b[0m\u001b[0;34m,\u001b[0m\u001b[0mk\u001b[0m\u001b[0;34m,\u001b[0m\u001b[0;34m'  :'\u001b[0m\u001b[0;34m,\u001b[0m\u001b[0mv\u001b[0m\u001b[0;34m)\u001b[0m\u001b[0;34m\u001b[0m\u001b[0;34m\u001b[0m\u001b[0m\n",
            "\u001b[0;31mNameError\u001b[0m: name 'details' is not defined"
          ]
        }
      ]
    },
    {
      "cell_type": "code",
      "source": [
        "def displayArgument(**details):\n",
        "\n",
        "    for a,b in details.items():\n",
        "      if a == 'fname' or a == 'lname':\n",
        "        print(a,':',b)\n",
        "      elif a == 'age':\n",
        "        print(a,'  :',b)\n",
        "      else:\n",
        "        print(a,':',b)\n",
        "\n",
        "while True:\n",
        "  fname = input('enter the first name : ')\n",
        "  lname = input('enter the last name : ')\n",
        "  age = input('enter the age : ')\n",
        "  displayArgument(fname=fname, lname=lname, age= age)\n",
        "  e =input('enter the 0 to exit or enter any key to continue :')\n",
        "  if e == '0':\n",
        "    break\n",
        ""
      ],
      "metadata": {
        "colab": {
          "base_uri": "https://localhost:8080/"
        },
        "id": "61RvyPlXnHI4",
        "outputId": "7da8685b-159d-4477-dbca-07eb88d7a5e0"
      },
      "execution_count": 77,
      "outputs": [
        {
          "name": "stdout",
          "output_type": "stream",
          "text": [
            "enter the first name : d\n",
            "enter the last name : d\n",
            "enter the age : 3\n",
            "fname : d\n",
            "lname : d\n",
            "age   : 3\n",
            "enter the 0 to exit or enter any key to continue :0\n"
          ]
        }
      ]
    },
    {
      "cell_type": "code",
      "source": [
        "def displayArgument(**details):\n",
        "\n",
        "    for a,b in details.items():\n",
        "      if a == 'fname' or a == 'lname':\n",
        "        print(a,':',b)\n",
        "      elif a == 'age':\n",
        "        print(a,'  :',b)\n",
        "      else:\n",
        "        print(a,':',b)\n",
        "\n",
        "while True:\n",
        "  fname = input('enter the first name : ')\n",
        "  lname = input('enter the last name : ')\n",
        "  age = input('enter the age : ')\n",
        "  displayArgument(fname=fname, lname=lname, age= age)\n",
        "  if e == input('enter the 0 to exit or enter any key to continue :'):\n",
        "    break\n",
        ""
      ],
      "metadata": {
        "colab": {
          "base_uri": "https://localhost:8080/"
        },
        "id": "-IMC2KSFvcuv",
        "outputId": "605dda20-e0ee-4706-a03b-2d2cc8115190"
      },
      "execution_count": 78,
      "outputs": [
        {
          "name": "stdout",
          "output_type": "stream",
          "text": [
            "enter the first name : f\n",
            "enter the last name : \n",
            "enter the age : 4\n",
            "fname : f\n",
            "lname : \n",
            "age   : 4\n",
            "enter the 0 to exit or enter any key to continue :0\n"
          ]
        }
      ]
    },
    {
      "cell_type": "markdown",
      "source": [
        "# New Section"
      ],
      "metadata": {
        "id": "zazpDGVjxI-Y"
      }
    }
  ]
}